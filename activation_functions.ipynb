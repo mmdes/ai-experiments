{
  "cells": [
    {
      "cell_type": "markdown",
      "metadata": {
        "id": "Fv5fx_o_OxcZ"
      },
      "source": [
        "#Activation Functions"
      ]
    },
    {
      "cell_type": "code",
      "execution_count": null,
      "metadata": {
        "colab": {
          "base_uri": "https://localhost:8080/"
        },
        "id": "j6FckWxfH1_A",
        "outputId": "bc26de44-d2d5-4af2-e403-0b7360726f2c"
      },
      "outputs": [
        {
          "name": "stdout",
          "output_type": "stream",
          "text": [
            "Requirement already satisfied: numpy==1.25.2 in /usr/local/lib/python3.10/dist-packages (1.25.2)\n"
          ]
        }
      ],
      "source": [
        "!pip install numpy==1.25.2\n",
        "import numpy as np"
      ]
    },
    {
      "cell_type": "code",
      "execution_count": null,
      "metadata": {
        "colab": {
          "base_uri": "https://localhost:8080/",
          "height": 35
        },
        "id": "IR5fk6vzH9r-",
        "outputId": "7952f4cc-1d21-4065-fc09-b0cafda89f88"
      },
      "outputs": [
        {
          "data": {
            "application/vnd.google.colaboratory.intrinsic+json": {
              "type": "string"
            },
            "text/plain": [
              "'1.25.2'"
            ]
          },
          "execution_count": 2,
          "metadata": {},
          "output_type": "execute_result"
        }
      ],
      "source": [
        "np.__version__"
      ]
    },
    {
      "cell_type": "markdown",
      "metadata": {
        "id": "WfWfxpVmHkLT"
      },
      "source": [
        "##Step Function (linearly separable problems)"
      ]
    },
    {
      "cell_type": "code",
      "execution_count": null,
      "metadata": {
        "id": "6wM0sO52IYhU"
      },
      "outputs": [],
      "source": [
        "def step_function(sum):\n",
        "  if sum >= 1:\n",
        "    return 1\n",
        "  return 0"
      ]
    },
    {
      "cell_type": "markdown",
      "metadata": {
        "id": "XCbEDTyVIlZn"
      },
      "source": [
        "Testing step function"
      ]
    },
    {
      "cell_type": "code",
      "execution_count": null,
      "metadata": {
        "colab": {
          "base_uri": "https://localhost:8080/"
        },
        "id": "3isUM2HaIpy9",
        "outputId": "c3daf93b-1ea1-4e9d-ec52-26d82d7f02ac"
      },
      "outputs": [
        {
          "data": {
            "text/plain": [
              "0"
            ]
          },
          "execution_count": 11,
          "metadata": {},
          "output_type": "execute_result"
        }
      ],
      "source": [
        "step_function(-1)"
      ]
    },
    {
      "cell_type": "code",
      "execution_count": null,
      "metadata": {
        "colab": {
          "base_uri": "https://localhost:8080/"
        },
        "id": "cyVawTfaJCdT",
        "outputId": "f4cf190c-ad01-41b5-cb25-9884759c4388"
      },
      "outputs": [
        {
          "data": {
            "text/plain": [
              "1"
            ]
          },
          "execution_count": 12,
          "metadata": {},
          "output_type": "execute_result"
        }
      ],
      "source": [
        "step_function(1)"
      ]
    },
    {
      "cell_type": "markdown",
      "metadata": {
        "id": "V9WvsYJfJd-V"
      },
      "source": [
        "##Sigmoid (binary classification)\n",
        "\n",
        "```\n",
        "# Isto está formatado como código\n",
        "```\n",
        "\n"
      ]
    },
    {
      "cell_type": "code",
      "execution_count": null,
      "metadata": {
        "id": "3CP-3QDEJfNt"
      },
      "outputs": [],
      "source": [
        "def sigmoid_function(sum):\n",
        "   return 1/(1+np.exp(-sum))"
      ]
    },
    {
      "cell_type": "markdown",
      "metadata": {
        "id": "G_AVPEGMJyKV"
      },
      "source": [
        "Testing sigmoid function"
      ]
    },
    {
      "cell_type": "code",
      "execution_count": null,
      "metadata": {
        "colab": {
          "base_uri": "https://localhost:8080/"
        },
        "id": "vrfMoDPHJs-L",
        "outputId": "29ea9fcd-18e7-4781-caab-630162fc15dc"
      },
      "outputs": [
        {
          "data": {
            "text/plain": [
              "4.5397868702434395e-05"
            ]
          },
          "execution_count": 15,
          "metadata": {},
          "output_type": "execute_result"
        }
      ],
      "source": [
        "sigmoid_function(-10)"
      ]
    },
    {
      "cell_type": "code",
      "execution_count": null,
      "metadata": {
        "colab": {
          "base_uri": "https://localhost:8080/"
        },
        "id": "fBYiMEPZJ7bb",
        "outputId": "9960320e-5dc9-4daa-eecc-dd7bea123df6"
      },
      "outputs": [
        {
          "data": {
            "text/plain": [
              "0.7310585786300049"
            ]
          },
          "execution_count": 16,
          "metadata": {},
          "output_type": "execute_result"
        }
      ],
      "source": [
        "sigmoid_function(1)"
      ]
    },
    {
      "cell_type": "markdown",
      "metadata": {
        "id": "Aejq3YGIKPED"
      },
      "source": [
        "##Hyperbolic Tangent (Autoencoders and GANs)"
      ]
    },
    {
      "cell_type": "code",
      "execution_count": null,
      "metadata": {
        "id": "t2EPdw1zKQLb"
      },
      "outputs": [],
      "source": [
        "def tahn_function(sum):\n",
        "  return (np.exp(sum)-np.exp(-sum))/(np.exp(sum)+np.exp(-sum))"
      ]
    },
    {
      "cell_type": "markdown",
      "metadata": {
        "id": "pFacz24YKnvt"
      },
      "source": [
        "Testing hyperbolic tangent function"
      ]
    },
    {
      "cell_type": "markdown",
      "metadata": {
        "id": "6YFckpRwMSgL"
      },
      "source": []
    },
    {
      "cell_type": "code",
      "execution_count": null,
      "metadata": {
        "colab": {
          "base_uri": "https://localhost:8080/"
        },
        "id": "c4TolruTKZH6",
        "outputId": "ac0ea7f1-2bad-4bc6-869a-c3cd96b17ff0"
      },
      "outputs": [
        {
          "data": {
            "text/plain": [
              "-0.9999999958776926"
            ]
          },
          "execution_count": 22,
          "metadata": {},
          "output_type": "execute_result"
        }
      ],
      "source": [
        "tahn_function(-10)"
      ]
    },
    {
      "cell_type": "code",
      "execution_count": null,
      "metadata": {
        "colab": {
          "base_uri": "https://localhost:8080/"
        },
        "id": "P4hTOh2qKhJ3",
        "outputId": "481a1d35-6fc1-4308-b4b7-d33bce7edc7d"
      },
      "outputs": [
        {
          "data": {
            "text/plain": [
              "0.9999999958776926"
            ]
          },
          "execution_count": 23,
          "metadata": {},
          "output_type": "execute_result"
        }
      ],
      "source": [
        "tahn_function(10)"
      ]
    },
    {
      "cell_type": "code",
      "execution_count": null,
      "metadata": {
        "colab": {
          "base_uri": "https://localhost:8080/"
        },
        "id": "RpNZQQtoKjL3",
        "outputId": "13a98a7c-cfb9-4581-88fc-ebf3a8499888"
      },
      "outputs": [
        {
          "data": {
            "text/plain": [
              "0.7615941559557649"
            ]
          },
          "execution_count": 24,
          "metadata": {},
          "output_type": "execute_result"
        }
      ],
      "source": [
        "tahn_function(1)"
      ]
    },
    {
      "cell_type": "markdown",
      "metadata": {
        "id": "U5zSIVDDLR4Z"
      },
      "source": [
        "## ReLU (specially used in hidden layers)"
      ]
    },
    {
      "cell_type": "code",
      "execution_count": null,
      "metadata": {
        "id": "VkfURVyBLnC4"
      },
      "outputs": [],
      "source": [
        "def relu_function(sum):\n",
        "  if sum < 0:\n",
        "    return 0\n",
        "  return sum\n"
      ]
    },
    {
      "cell_type": "markdown",
      "metadata": {
        "id": "a540uem2MWeL"
      },
      "source": [
        "Testing ReLU function"
      ]
    },
    {
      "cell_type": "code",
      "execution_count": null,
      "metadata": {
        "colab": {
          "base_uri": "https://localhost:8080/"
        },
        "id": "fEA-GgO2Lqhs",
        "outputId": "365b9e58-b4e1-4577-ee3c-8e3cbbf6bc9c"
      },
      "outputs": [
        {
          "data": {
            "text/plain": [
              "0"
            ]
          },
          "execution_count": 26,
          "metadata": {},
          "output_type": "execute_result"
        }
      ],
      "source": [
        "relu_function(0)"
      ]
    },
    {
      "cell_type": "code",
      "execution_count": null,
      "metadata": {
        "colab": {
          "base_uri": "https://localhost:8080/"
        },
        "id": "cWgXJCgeL6Jf",
        "outputId": "b48c8100-ff64-4a19-935d-d63a8841a995"
      },
      "outputs": [
        {
          "data": {
            "text/plain": [
              "134"
            ]
          },
          "execution_count": 27,
          "metadata": {},
          "output_type": "execute_result"
        }
      ],
      "source": [
        "relu_function(134)"
      ]
    },
    {
      "cell_type": "markdown",
      "metadata": {
        "id": "WfkklxLQMfB9"
      },
      "source": [
        "##Softmax (classification for problems with more than 2 classes)"
      ]
    },
    {
      "cell_type": "code",
      "execution_count": null,
      "metadata": {
        "id": "G9NPKRPxMyEH"
      },
      "outputs": [],
      "source": [
        "def softmax_function(x):\n",
        "  ex = np.exp(x)\n",
        "  return ex/ex.sum()"
      ]
    },
    {
      "cell_type": "markdown",
      "metadata": {
        "id": "yH1wWA4hNFMP"
      },
      "source": [
        "Testing softmax"
      ]
    },
    {
      "cell_type": "code",
      "execution_count": null,
      "metadata": {
        "colab": {
          "base_uri": "https://localhost:8080/"
        },
        "id": "8aWmWarxNHTJ",
        "outputId": "8d8ecc2a-8396-465e-e16a-6ac5603dca45"
      },
      "outputs": [
        {
          "data": {
            "text/plain": [
              "array([0.99001676, 0.00667068, 0.00331256])"
            ]
          },
          "execution_count": 29,
          "metadata": {},
          "output_type": "execute_result"
        }
      ],
      "source": [
        "softmax_function([7.0, 2.0, 1.3])"
      ]
    },
    {
      "cell_type": "markdown",
      "metadata": {
        "id": "u_UqhuGeNr_Q"
      },
      "source": [
        "##Linear Function (regression problems)\n"
      ]
    },
    {
      "cell_type": "code",
      "execution_count": null,
      "metadata": {
        "id": "eMefNK1PNzKu"
      },
      "outputs": [],
      "source": [
        "def linear_function(sum):\n",
        "  return sum"
      ]
    },
    {
      "cell_type": "markdown",
      "metadata": {
        "id": "dhLsiIWCN3uf"
      },
      "source": [
        "Testing linear function"
      ]
    },
    {
      "cell_type": "code",
      "execution_count": null,
      "metadata": {
        "colab": {
          "base_uri": "https://localhost:8080/"
        },
        "id": "29UuRzIIN62B",
        "outputId": "0b7b76ed-871f-481e-c8b5-05f2edadae6a"
      },
      "outputs": [
        {
          "data": {
            "text/plain": [
              "1"
            ]
          },
          "execution_count": 32,
          "metadata": {},
          "output_type": "execute_result"
        }
      ],
      "source": [
        "linear_function(1)"
      ]
    },
    {
      "cell_type": "code",
      "execution_count": null,
      "metadata": {
        "colab": {
          "base_uri": "https://localhost:8080/"
        },
        "id": "ZJ_VlT09N_qd",
        "outputId": "80a8a0d2-a2ad-4b70-e8fa-d5d4ece72061"
      },
      "outputs": [
        {
          "data": {
            "text/plain": [
              "2"
            ]
          },
          "execution_count": 33,
          "metadata": {},
          "output_type": "execute_result"
        }
      ],
      "source": [
        "linear_function(2)"
      ]
    },
    {
      "cell_type": "code",
      "execution_count": null,
      "metadata": {
        "colab": {
          "base_uri": "https://localhost:8080/"
        },
        "id": "Ya7pvg4JOB3L",
        "outputId": "ddec3b11-87e9-4eb0-c59a-63fb0af7d3f5"
      },
      "outputs": [
        {
          "data": {
            "text/plain": [
              "3"
            ]
          },
          "execution_count": 34,
          "metadata": {},
          "output_type": "execute_result"
        }
      ],
      "source": [
        "linear_function(3)"
      ]
    }
  ],
  "metadata": {
    "colab": {
      "provenance": []
    },
    "kernelspec": {
      "display_name": "Python 3",
      "name": "python3"
    },
    "language_info": {
      "name": "python"
    }
  },
  "nbformat": 4,
  "nbformat_minor": 0
}

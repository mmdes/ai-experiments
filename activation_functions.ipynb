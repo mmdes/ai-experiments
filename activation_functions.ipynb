{
  "nbformat": 4,
  "nbformat_minor": 0,
  "metadata": {
    "colab": {
      "provenance": []
    },
    "kernelspec": {
      "name": "python3",
      "display_name": "Python 3"
    },
    "language_info": {
      "name": "python"
    }
  },
  "cells": [
    {
      "cell_type": "markdown",
      "source": [
        "#Activation Functions"
      ],
      "metadata": {
        "id": "Fv5fx_o_OxcZ"
      }
    },
    {
      "cell_type": "code",
      "source": [
        "!pip install numpy==1.25.2\n",
        "import numpy as np"
      ],
      "metadata": {
        "colab": {
          "base_uri": "https://localhost:8080/"
        },
        "id": "j6FckWxfH1_A",
        "outputId": "bc26de44-d2d5-4af2-e403-0b7360726f2c"
      },
      "execution_count": null,
      "outputs": [
        {
          "output_type": "stream",
          "name": "stdout",
          "text": [
            "Requirement already satisfied: numpy==1.25.2 in /usr/local/lib/python3.10/dist-packages (1.25.2)\n"
          ]
        }
      ]
    },
    {
      "cell_type": "code",
      "source": [
        "np.__version__"
      ],
      "metadata": {
        "colab": {
          "base_uri": "https://localhost:8080/",
          "height": 35
        },
        "id": "IR5fk6vzH9r-",
        "outputId": "7952f4cc-1d21-4065-fc09-b0cafda89f88"
      },
      "execution_count": null,
      "outputs": [
        {
          "output_type": "execute_result",
          "data": {
            "text/plain": [
              "'1.25.2'"
            ],
            "application/vnd.google.colaboratory.intrinsic+json": {
              "type": "string"
            }
          },
          "metadata": {},
          "execution_count": 2
        }
      ]
    },
    {
      "cell_type": "markdown",
      "source": [
        "##Step Function (linearly separable problems)"
      ],
      "metadata": {
        "id": "WfWfxpVmHkLT"
      }
    },
    {
      "cell_type": "code",
      "source": [
        "def step_function(sum):\n",
        "  if sum >= 1:\n",
        "    return 1\n",
        "  return 0"
      ],
      "metadata": {
        "id": "6wM0sO52IYhU"
      },
      "execution_count": null,
      "outputs": []
    },
    {
      "cell_type": "markdown",
      "source": [
        "Testing step function"
      ],
      "metadata": {
        "id": "XCbEDTyVIlZn"
      }
    },
    {
      "cell_type": "code",
      "source": [],
      "metadata": {
        "id": "IMMM_9Y4MKez"
      },
      "execution_count": null,
      "outputs": []
    },
    {
      "cell_type": "code",
      "source": [
        "step_function(-1)"
      ],
      "metadata": {
        "colab": {
          "base_uri": "https://localhost:8080/"
        },
        "id": "3isUM2HaIpy9",
        "outputId": "c3daf93b-1ea1-4e9d-ec52-26d82d7f02ac"
      },
      "execution_count": null,
      "outputs": [
        {
          "output_type": "execute_result",
          "data": {
            "text/plain": [
              "0"
            ]
          },
          "metadata": {},
          "execution_count": 11
        }
      ]
    },
    {
      "cell_type": "code",
      "source": [
        "step_function(1)"
      ],
      "metadata": {
        "colab": {
          "base_uri": "https://localhost:8080/"
        },
        "id": "cyVawTfaJCdT",
        "outputId": "f4cf190c-ad01-41b5-cb25-9884759c4388"
      },
      "execution_count": null,
      "outputs": [
        {
          "output_type": "execute_result",
          "data": {
            "text/plain": [
              "1"
            ]
          },
          "metadata": {},
          "execution_count": 12
        }
      ]
    },
    {
      "cell_type": "markdown",
      "source": [
        "##Sigmoid (binary classification)\n",
        "\n",
        "```\n",
        "# Isto está formatado como código\n",
        "```\n",
        "\n"
      ],
      "metadata": {
        "id": "V9WvsYJfJd-V"
      }
    },
    {
      "cell_type": "code",
      "source": [
        "def sigmoid_function(sum):\n",
        "   return 1/(1+np.exp(-sum))"
      ],
      "metadata": {
        "id": "3CP-3QDEJfNt"
      },
      "execution_count": null,
      "outputs": []
    },
    {
      "cell_type": "markdown",
      "source": [
        "Testing sigmoid function"
      ],
      "metadata": {
        "id": "G_AVPEGMJyKV"
      }
    },
    {
      "cell_type": "code",
      "source": [],
      "metadata": {
        "id": "ey5lCvSFLhzI"
      },
      "execution_count": null,
      "outputs": []
    },
    {
      "cell_type": "code",
      "source": [
        "sigmoid_function(-10)"
      ],
      "metadata": {
        "colab": {
          "base_uri": "https://localhost:8080/"
        },
        "id": "vrfMoDPHJs-L",
        "outputId": "29ea9fcd-18e7-4781-caab-630162fc15dc"
      },
      "execution_count": null,
      "outputs": [
        {
          "output_type": "execute_result",
          "data": {
            "text/plain": [
              "4.5397868702434395e-05"
            ]
          },
          "metadata": {},
          "execution_count": 15
        }
      ]
    },
    {
      "cell_type": "code",
      "source": [
        "sigmoid_function(1)"
      ],
      "metadata": {
        "colab": {
          "base_uri": "https://localhost:8080/"
        },
        "id": "fBYiMEPZJ7bb",
        "outputId": "9960320e-5dc9-4daa-eecc-dd7bea123df6"
      },
      "execution_count": null,
      "outputs": [
        {
          "output_type": "execute_result",
          "data": {
            "text/plain": [
              "0.7310585786300049"
            ]
          },
          "metadata": {},
          "execution_count": 16
        }
      ]
    },
    {
      "cell_type": "markdown",
      "source": [
        "##Hyperbolic Tangent (Autoencoders and GANs)"
      ],
      "metadata": {
        "id": "Aejq3YGIKPED"
      }
    },
    {
      "cell_type": "code",
      "source": [
        "def tahn_function(sum):\n",
        "  return (np.exp(sum)-np.exp(-sum))/(np.exp(sum)+np.exp(-sum))"
      ],
      "metadata": {
        "id": "t2EPdw1zKQLb"
      },
      "execution_count": null,
      "outputs": []
    },
    {
      "cell_type": "markdown",
      "source": [
        "Testing hyperbolic tangent function"
      ],
      "metadata": {
        "id": "pFacz24YKnvt"
      }
    },
    {
      "cell_type": "markdown",
      "source": [],
      "metadata": {
        "id": "6YFckpRwMSgL"
      }
    },
    {
      "cell_type": "code",
      "source": [
        "tahn_function(-10)"
      ],
      "metadata": {
        "colab": {
          "base_uri": "https://localhost:8080/"
        },
        "id": "c4TolruTKZH6",
        "outputId": "ac0ea7f1-2bad-4bc6-869a-c3cd96b17ff0"
      },
      "execution_count": null,
      "outputs": [
        {
          "output_type": "execute_result",
          "data": {
            "text/plain": [
              "-0.9999999958776926"
            ]
          },
          "metadata": {},
          "execution_count": 22
        }
      ]
    },
    {
      "cell_type": "code",
      "source": [
        "tahn_function(10)"
      ],
      "metadata": {
        "colab": {
          "base_uri": "https://localhost:8080/"
        },
        "id": "P4hTOh2qKhJ3",
        "outputId": "481a1d35-6fc1-4308-b4b7-d33bce7edc7d"
      },
      "execution_count": null,
      "outputs": [
        {
          "output_type": "execute_result",
          "data": {
            "text/plain": [
              "0.9999999958776926"
            ]
          },
          "metadata": {},
          "execution_count": 23
        }
      ]
    },
    {
      "cell_type": "code",
      "source": [
        "tahn_function(1)"
      ],
      "metadata": {
        "colab": {
          "base_uri": "https://localhost:8080/"
        },
        "id": "RpNZQQtoKjL3",
        "outputId": "13a98a7c-cfb9-4581-88fc-ebf3a8499888"
      },
      "execution_count": null,
      "outputs": [
        {
          "output_type": "execute_result",
          "data": {
            "text/plain": [
              "0.7615941559557649"
            ]
          },
          "metadata": {},
          "execution_count": 24
        }
      ]
    },
    {
      "cell_type": "markdown",
      "source": [
        "## ReLU (specially used in hidden layers)"
      ],
      "metadata": {
        "id": "U5zSIVDDLR4Z"
      }
    },
    {
      "cell_type": "code",
      "source": [
        "def relu_function(sum):\n",
        "  if sum < 0:\n",
        "    return 0\n",
        "  return sum\n"
      ],
      "metadata": {
        "id": "VkfURVyBLnC4"
      },
      "execution_count": null,
      "outputs": []
    },
    {
      "cell_type": "markdown",
      "source": [
        "Testing ReLU function"
      ],
      "metadata": {
        "id": "a540uem2MWeL"
      }
    },
    {
      "cell_type": "code",
      "source": [
        "relu_function(0)"
      ],
      "metadata": {
        "colab": {
          "base_uri": "https://localhost:8080/"
        },
        "id": "fEA-GgO2Lqhs",
        "outputId": "365b9e58-b4e1-4577-ee3c-8e3cbbf6bc9c"
      },
      "execution_count": null,
      "outputs": [
        {
          "output_type": "execute_result",
          "data": {
            "text/plain": [
              "0"
            ]
          },
          "metadata": {},
          "execution_count": 26
        }
      ]
    },
    {
      "cell_type": "code",
      "source": [
        "relu_function(134)"
      ],
      "metadata": {
        "colab": {
          "base_uri": "https://localhost:8080/"
        },
        "id": "cWgXJCgeL6Jf",
        "outputId": "b48c8100-ff64-4a19-935d-d63a8841a995"
      },
      "execution_count": null,
      "outputs": [
        {
          "output_type": "execute_result",
          "data": {
            "text/plain": [
              "134"
            ]
          },
          "metadata": {},
          "execution_count": 27
        }
      ]
    },
    {
      "cell_type": "markdown",
      "source": [
        "##Softmax (classification for problems with more than 2 classes)"
      ],
      "metadata": {
        "id": "WfkklxLQMfB9"
      }
    },
    {
      "cell_type": "code",
      "source": [
        "def softmax_function(x):\n",
        "  ex = np.exp(x)\n",
        "  return ex/ex.sum()"
      ],
      "metadata": {
        "id": "G9NPKRPxMyEH"
      },
      "execution_count": null,
      "outputs": []
    },
    {
      "cell_type": "markdown",
      "source": [
        "Testing softmax"
      ],
      "metadata": {
        "id": "yH1wWA4hNFMP"
      }
    },
    {
      "cell_type": "code",
      "source": [
        "softmax_function([7.0, 2.0, 1.3])"
      ],
      "metadata": {
        "colab": {
          "base_uri": "https://localhost:8080/"
        },
        "id": "8aWmWarxNHTJ",
        "outputId": "8d8ecc2a-8396-465e-e16a-6ac5603dca45"
      },
      "execution_count": null,
      "outputs": [
        {
          "output_type": "execute_result",
          "data": {
            "text/plain": [
              "array([0.99001676, 0.00667068, 0.00331256])"
            ]
          },
          "metadata": {},
          "execution_count": 29
        }
      ]
    },
    {
      "cell_type": "markdown",
      "source": [
        "##Linear Function (regression problems)\n"
      ],
      "metadata": {
        "id": "u_UqhuGeNr_Q"
      }
    },
    {
      "cell_type": "code",
      "source": [
        "def linear_function(sum):\n",
        "  return sum"
      ],
      "metadata": {
        "id": "eMefNK1PNzKu"
      },
      "execution_count": null,
      "outputs": []
    },
    {
      "cell_type": "markdown",
      "source": [
        "Testing linear function"
      ],
      "metadata": {
        "id": "dhLsiIWCN3uf"
      }
    },
    {
      "cell_type": "code",
      "source": [
        "linear_function(1)"
      ],
      "metadata": {
        "colab": {
          "base_uri": "https://localhost:8080/"
        },
        "id": "29UuRzIIN62B",
        "outputId": "0b7b76ed-871f-481e-c8b5-05f2edadae6a"
      },
      "execution_count": null,
      "outputs": [
        {
          "output_type": "execute_result",
          "data": {
            "text/plain": [
              "1"
            ]
          },
          "metadata": {},
          "execution_count": 32
        }
      ]
    },
    {
      "cell_type": "code",
      "source": [
        "linear_function(2)"
      ],
      "metadata": {
        "colab": {
          "base_uri": "https://localhost:8080/"
        },
        "id": "ZJ_VlT09N_qd",
        "outputId": "80a8a0d2-a2ad-4b70-e8fa-d5d4ece72061"
      },
      "execution_count": null,
      "outputs": [
        {
          "output_type": "execute_result",
          "data": {
            "text/plain": [
              "2"
            ]
          },
          "metadata": {},
          "execution_count": 33
        }
      ]
    },
    {
      "cell_type": "code",
      "source": [
        "linear_function(3)"
      ],
      "metadata": {
        "colab": {
          "base_uri": "https://localhost:8080/"
        },
        "id": "Ya7pvg4JOB3L",
        "outputId": "ddec3b11-87e9-4eb0-c59a-63fb0af7d3f5"
      },
      "execution_count": null,
      "outputs": [
        {
          "output_type": "execute_result",
          "data": {
            "text/plain": [
              "3"
            ]
          },
          "metadata": {},
          "execution_count": 34
        }
      ]
    }
  ]
}